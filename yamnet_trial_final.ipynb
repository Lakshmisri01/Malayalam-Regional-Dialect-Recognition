{
 "cells": [
  {
   "cell_type": "code",
   "execution_count": 53,
   "metadata": {},
   "outputs": [],
   "source": [
    "import os\n",
    "import io\n",
    "import csv\n",
    "import numpy as np\n",
    "import pandas as pd\n",
    "import tensorflow as tf\n",
    "import tensorflow_hub as hub\n",
    "import tensorflow_io as tfio\n",
    "from tensorflow import keras\n",
    "import matplotlib.pyplot as plt\n",
    "import seaborn as sns\n",
    "from scipy import stats\n",
    "from IPython.display import Audio"
   ]
  },
  {
   "cell_type": "code",
   "execution_count": 54,
   "metadata": {},
   "outputs": [],
   "source": [
    "DATASET_BASE_PATH = \"D:/datasets/SpeechProcessing/output_folder_trial\"\n",
    "SEED = 1337\n",
    "EPOCHS = 10\n",
    "BATCH_SIZE = 64\n",
    "VALIDATION_RATIO = 0.1"
   ]
  },
  {
   "cell_type": "code",
   "execution_count": 55,
   "metadata": {},
   "outputs": [],
   "source": [
    "# Set all random seeds in order to get reproducible results\n",
    "keras.utils.set_random_seed(SEED)\n",
    "data_folder_path_tvm = os.path.join(DATASET_BASE_PATH, 'Trivandrum')\n",
    "data_folder_path_koz = os.path.join(DATASET_BASE_PATH, 'Kozhikode')\n",
    "data_folder_path_koz = os.path.join(DATASET_BASE_PATH, 'Kottayam')\n",
    "data_folder_path_koz = os.path.join(DATASET_BASE_PATH, 'Trissur')\n"
   ]
  },
  {
   "cell_type": "code",
   "execution_count": 56,
   "metadata": {},
   "outputs": [],
   "source": [
    "gender_agnostic_categories = [\n",
    "    \"tvm\",\n",
    "    \"koz\"\n",
    "    \"kot\"\n",
    "    \"tri\"\n",
    "]\n",
    "class_names = [\n",
    "    \"Trivandrum\",\n",
    "    \"Kozhikode\"\n",
    "    \"Kottayam\",\n",
    "    \"Trissur\"\n",
    "]"
   ]
  },
  {
   "cell_type": "code",
   "execution_count": 57,
   "metadata": {},
   "outputs": [],
   "source": [
    "yamnet_model = hub.load(\"https://tfhub.dev/google/yamnet/1\")"
   ]
  },
  {
   "cell_type": "code",
   "execution_count": 59,
   "metadata": {},
   "outputs": [
    {
     "name": "stdout",
     "output_type": "stream",
     "text": [
      "                                            filename  accent\n",
      "0  D:/datasets/SpeechProcessing/output_folder_tri...       0\n",
      "1  D:/datasets/SpeechProcessing/output_folder_tri...       1\n",
      "2  D:/datasets/SpeechProcessing/output_folder_tri...       3\n",
      "3  D:/datasets/SpeechProcessing/output_folder_tri...       2\n",
      "4  D:/datasets/SpeechProcessing/output_folder_tri...       3\n",
      "0    D:/datasets/SpeechProcessing/output_folder_tri...\n",
      "1    D:/datasets/SpeechProcessing/output_folder_tri...\n",
      "2    D:/datasets/SpeechProcessing/output_folder_tri...\n",
      "3    D:/datasets/SpeechProcessing/output_folder_tri...\n",
      "4    D:/datasets/SpeechProcessing/output_folder_tri...\n",
      "5    D:/datasets/SpeechProcessing/output_folder_tri...\n",
      "6    D:/datasets/SpeechProcessing/output_folder_tri...\n",
      "7    D:/datasets/SpeechProcessing/output_folder_tri...\n",
      "8    D:/datasets/SpeechProcessing/output_folder_tri...\n",
      "9    D:/datasets/SpeechProcessing/output_folder_tri...\n",
      "Name: filename, dtype: object\n"
     ]
    }
   ],
   "source": [
    "def list_files_recursive(directory):\n",
    "    \"\"\"List full file paths in a directory and its subdirectories for '.wav' files.\"\"\"\n",
    "    file_paths = []\n",
    "    for root, dirs, files in os.walk(directory):\n",
    "        for file in files:\n",
    "            if file.endswith('.wav'):\n",
    "                file_paths.append(os.path.join(root, file))\n",
    "    return file_paths\n",
    "\n",
    "# Define the base directories for each accent\n",
    "base_dir_accent1 = \"D:/datasets/SpeechProcessing/output_folder_trial/Trivandrum\"\n",
    "base_dir_accent2 = \"D:/datasets/SpeechProcessing/output_folder_trial/Kozhikode\"\n",
    "base_dir_accent3 = \"D:/datasets/SpeechProcessing/output_folder_trial/Kottayam\"\n",
    "base_dir_accent4 = \"D:/datasets/SpeechProcessing/output_folder_trial/Trissur\"\n",
    "\n",
    "# List files in each base directory including subdirectories\n",
    "files_accent1 = list_files_recursive(base_dir_accent1)\n",
    "files_accent2 = list_files_recursive(base_dir_accent2)\n",
    "files_accent3 = list_files_recursive(base_dir_accent3)\n",
    "files_accent4 = list_files_recursive(base_dir_accent4)\n",
    "\n",
    "# Create a DataFrame\n",
    "data = {'filename': files_accent1 + files_accent2 + files_accent3 + files_accent4 ,\n",
    "        'accent': [0] * len(files_accent1) + [1] * len(files_accent2) + [2] * len(files_accent3) + [3] * len(files_accent4)}\n",
    "dataframe = pd.DataFrame(data)\n",
    "\n",
    "# Shuffle the DataFrame\n",
    "dataframe = dataframe.sample(frac=1, random_state=1337).reset_index(drop=True)\n",
    "\n",
    "# Display the first few rows of the DataFrame\n",
    "print(dataframe.head())\n",
    "\n",
    "# Display some file paths to verify they include nested directories\n",
    "print(dataframe['filename'].head(10))\n",
    "dataframe.to_csv('D:\\datasets\\SpeechProcessing\\dataframe.csv', index=False)\n",
    "\n"
   ]
  },
  {
   "cell_type": "code",
   "execution_count": 60,
   "metadata": {},
   "outputs": [
    {
     "name": "stdout",
     "output_type": "stream",
     "text": [
      "Trivandrum chunks:\n",
      "D:/datasets/SpeechProcessing/output_folder_trial/Trivandrum\\Tvm_01: 39 .wav files\n",
      "D:/datasets/SpeechProcessing/output_folder_trial/Trivandrum\\Tvm_01 - Copy: 39 .wav files\n",
      "D:/datasets/SpeechProcessing/output_folder_trial/Trivandrum\\Tvm_02: 55 .wav files\n",
      "D:/datasets/SpeechProcessing/output_folder_trial/Trivandrum\\Tvm_02 - Copy: 55 .wav files\n",
      "D:/datasets/SpeechProcessing/output_folder_trial/Trivandrum\\Tvm_03: 64 .wav files\n",
      "D:/datasets/SpeechProcessing/output_folder_trial/Trivandrum\\Tvm_03 - Copy: 64 .wav files\n",
      "D:/datasets/SpeechProcessing/output_folder_trial/Trivandrum\\Tvm_04: 44 .wav files\n",
      "D:/datasets/SpeechProcessing/output_folder_trial/Trivandrum\\Tvm_04 - Copy: 44 .wav files\n",
      "D:/datasets/SpeechProcessing/output_folder_trial/Trivandrum\\Tvm_05: 39 .wav files\n",
      "D:/datasets/SpeechProcessing/output_folder_trial/Trivandrum\\Tvm_05 - Copy: 39 .wav files\n",
      "D:/datasets/SpeechProcessing/output_folder_trial/Trivandrum\\Tvm_06: 39 .wav files\n",
      "D:/datasets/SpeechProcessing/output_folder_trial/Trivandrum\\Tvm_07: 4 .wav files\n",
      "D:/datasets/SpeechProcessing/output_folder_trial/Trivandrum\\Tvm_08: 49 .wav files\n",
      "D:/datasets/SpeechProcessing/output_folder_trial/Trivandrum\\Tvm_09: 353 .wav files\n",
      "D:/datasets/SpeechProcessing/output_folder_trial/Trivandrum\\Tvm_10: 43 .wav files\n",
      "D:/datasets/SpeechProcessing/output_folder_trial/Trivandrum\\Tvm_11: 218 .wav files\n",
      "D:/datasets/SpeechProcessing/output_folder_trial/Trivandrum\\Tvm_12: 54 .wav files\n",
      "\n",
      "Kozhikode chunks:\n",
      "D:/datasets/SpeechProcessing/output_folder_trial/Kozhikode\\Koz_01: 0 .wav files\n",
      "D:/datasets/SpeechProcessing/output_folder_trial/Kozhikode\\Koz_02: 0 .wav files\n",
      "D:/datasets/SpeechProcessing/output_folder_trial/Kozhikode\\Koz_03: 0 .wav files\n",
      "D:/datasets/SpeechProcessing/output_folder_trial/Kozhikode\\Koz_04: 0 .wav files\n",
      "D:/datasets/SpeechProcessing/output_folder_trial/Kozhikode\\Koz_05: 0 .wav files\n",
      "D:/datasets/SpeechProcessing/output_folder_trial/Kozhikode\\Koz_06: 0 .wav files\n",
      "D:/datasets/SpeechProcessing/output_folder_trial/Kozhikode\\Koz_07: 0 .wav files\n",
      "D:/datasets/SpeechProcessing/output_folder_trial/Kozhikode\\Koz_08: 0 .wav files\n",
      "D:/datasets/SpeechProcessing/output_folder_trial/Kozhikode\\Koz_09: 0 .wav files\n",
      "D:/datasets/SpeechProcessing/output_folder_trial/Kozhikode\\Koz_10: 0 .wav files\n",
      "D:/datasets/SpeechProcessing/output_folder_trial/Kozhikode\\Koz_11: 0 .wav files\n",
      "D:/datasets/SpeechProcessing/output_folder_trial/Kozhikode\\Koz_12: 0 .wav files\n",
      "D:/datasets/SpeechProcessing/output_folder_trial/Kozhikode\\Koz_13: 0 .wav files\n",
      "D:/datasets/SpeechProcessing/output_folder_trial/Kozhikode\\Koz_14: 0 .wav files\n",
      "D:/datasets/SpeechProcessing/output_folder_trial/Kozhikode\\Koz_15: 0 .wav files\n",
      "D:/datasets/SpeechProcessing/output_folder_trial/Kozhikode\\Koz_16: 0 .wav files\n",
      "D:/datasets/SpeechProcessing/output_folder_trial/Kozhikode\\Koz_17: 59 .wav files\n",
      "D:/datasets/SpeechProcessing/output_folder_trial/Kozhikode\\Koz_18: 130 .wav files\n",
      "D:/datasets/SpeechProcessing/output_folder_trial/Kozhikode\\Koz_19: 124 .wav files\n",
      "D:/datasets/SpeechProcessing/output_folder_trial/Kozhikode\\Koz_20: 138 .wav files\n",
      "D:/datasets/SpeechProcessing/output_folder_trial/Kozhikode\\Koz_21: 117 .wav files\n",
      "D:/datasets/SpeechProcessing/output_folder_trial/Kozhikode\\Koz_22: 108 .wav files\n",
      "D:/datasets/SpeechProcessing/output_folder_trial/Kozhikode\\Koz_23: 108 .wav files\n",
      "D:/datasets/SpeechProcessing/output_folder_trial/Kozhikode\\Koz_24: 105 .wav files\n",
      "D:/datasets/SpeechProcessing/output_folder_trial/Kozhikode\\Koz_25: 86 .wav files\n",
      "D:/datasets/SpeechProcessing/output_folder_trial/Kozhikode\\Koz_26: 114 .wav files\n",
      "D:/datasets/SpeechProcessing/output_folder_trial/Kozhikode\\Koz_27: 141 .wav files\n",
      "D:/datasets/SpeechProcessing/output_folder_trial/Kozhikode\\Koz_28: 105 .wav files\n",
      "D:/datasets/SpeechProcessing/output_folder_trial/Kozhikode\\Koz_29: 137 .wav files\n",
      "D:/datasets/SpeechProcessing/output_folder_trial/Kozhikode\\Koz_30: 112 .wav files\n",
      "D:/datasets/SpeechProcessing/output_folder_trial/Kozhikode\\Koz_31: 128 .wav files\n",
      "D:/datasets/SpeechProcessing/output_folder_trial/Kozhikode\\Koz_32: 88 .wav files\n",
      "\n",
      "Kottayam chunks:\n",
      "D:/datasets/SpeechProcessing/output_folder_trial/Kottayam\\Kot_01: 232 .wav files\n",
      "D:/datasets/SpeechProcessing/output_folder_trial/Kottayam\\Kot_02: 265 .wav files\n",
      "D:/datasets/SpeechProcessing/output_folder_trial/Kottayam\\Kot_03: 262 .wav files\n",
      "D:/datasets/SpeechProcessing/output_folder_trial/Kottayam\\Kot_04: 276 .wav files\n",
      "D:/datasets/SpeechProcessing/output_folder_trial/Kottayam\\Kot_05: 267 .wav files\n",
      "D:/datasets/SpeechProcessing/output_folder_trial/Kottayam\\Kot_06: 125 .wav files\n",
      "D:/datasets/SpeechProcessing/output_folder_trial/Kottayam\\Kot_07: 85 .wav files\n",
      "D:/datasets/SpeechProcessing/output_folder_trial/Kottayam\\Kot_08: 74 .wav files\n",
      "D:/datasets/SpeechProcessing/output_folder_trial/Kottayam\\Kot_09: 91 .wav files\n",
      "D:/datasets/SpeechProcessing/output_folder_trial/Kottayam\\Kot_10: 123 .wav files\n",
      "\n",
      "Trissur chunks:\n",
      "D:/datasets/SpeechProcessing/output_folder_trial/Trissur\\Tri_01: 1 .wav files\n",
      "D:/datasets/SpeechProcessing/output_folder_trial/Trissur\\Tri_02: 141 .wav files\n",
      "D:/datasets/SpeechProcessing/output_folder_trial/Trissur\\Tri_03: 96 .wav files\n",
      "D:/datasets/SpeechProcessing/output_folder_trial/Trissur\\Tri_04: 199 .wav files\n",
      "D:/datasets/SpeechProcessing/output_folder_trial/Trissur\\Tri_05: 145 .wav files\n",
      "D:/datasets/SpeechProcessing/output_folder_trial/Trissur\\Tri_06: 128 .wav files\n",
      "D:/datasets/SpeechProcessing/output_folder_trial/Trissur\\Tri_07: 10 .wav files\n",
      "D:/datasets/SpeechProcessing/output_folder_trial/Trissur\\Tri_08: 83 .wav files\n",
      "D:/datasets/SpeechProcessing/output_folder_trial/Trissur\\Tri_09: 23 .wav files\n",
      "D:/datasets/SpeechProcessing/output_folder_trial/Trissur\\Tri_10: 9 .wav files\n",
      "D:/datasets/SpeechProcessing/output_folder_trial/Trissur\\Tri_11: 16 .wav files\n",
      "D:/datasets/SpeechProcessing/output_folder_trial/Trissur\\Tri_12: 129 .wav files\n",
      "D:/datasets/SpeechProcessing/output_folder_trial/Trissur\\Tri_13: 63 .wav files\n",
      "D:/datasets/SpeechProcessing/output_folder_trial/Trissur\\Tri_14: 91 .wav files\n",
      "D:/datasets/SpeechProcessing/output_folder_trial/Trissur\\Tri_15: 101 .wav files\n",
      "D:/datasets/SpeechProcessing/output_folder_trial/Trissur\\Tri_16: 72 .wav files\n",
      "D:/datasets/SpeechProcessing/output_folder_trial/Trissur\\Tri_17: 82 .wav files\n",
      "D:/datasets/SpeechProcessing/output_folder_trial/Trissur\\Tri_18: 92 .wav files\n",
      "D:/datasets/SpeechProcessing/output_folder_trial/Trissur\\Tri_19: 124 .wav files\n",
      "D:/datasets/SpeechProcessing/output_folder_trial/Trissur\\Tri_20: 69 .wav files\n",
      "D:/datasets/SpeechProcessing/output_folder_trial/Trissur\\Tri_21: 64 .wav files\n",
      "D:/datasets/SpeechProcessing/output_folder_trial/Trissur\\Tri_22: 62 .wav files\n"
     ]
    }
   ],
   "source": [
    "import os\n",
    "\n",
    "def count_chunks(directory):\n",
    "    \"\"\"Count the number of chunks (.wav files) within each subdirectory of a directory.\"\"\"\n",
    "    accent_chunks = {}\n",
    "    for root, dirs, files in os.walk(directory):\n",
    "        for dir_name in dirs:\n",
    "            subdirectory = os.path.join(root, dir_name)\n",
    "            chunk_count = sum([1 for f in os.listdir(subdirectory) if f.endswith('.wav')])\n",
    "            accent_chunks[subdirectory] = chunk_count\n",
    "    return accent_chunks\n",
    "\n",
    "# Define the base directories for each accent\n",
    "base_dir_accent1 = \"D:/datasets/SpeechProcessing/output_folder_trial/Trivandrum\"\n",
    "base_dir_accent2 = \"D:/datasets/SpeechProcessing/output_folder_trial/Kozhikode\"\n",
    "base_dir_accent3 = \"D:/datasets/SpeechProcessing/output_folder_trial/Kottayam\"\n",
    "base_dir_accent4 = \"D:/datasets/SpeechProcessing/output_folder_trial/Trissur\"\n",
    "\n",
    "# Count the number of chunks for each accent\n",
    "chunks_accent1 = count_chunks(base_dir_accent1)\n",
    "chunks_accent2 = count_chunks(base_dir_accent2)\n",
    "chunks_accent3 = count_chunks(base_dir_accent3)\n",
    "chunks_accent4 = count_chunks(base_dir_accent4)\n",
    "\n",
    "# Print the results\n",
    "print(\"Trivandrum chunks:\")\n",
    "for subdirectory, count in chunks_accent1.items():\n",
    "    print(f\"{subdirectory}: {count} .wav files\")\n",
    "\n",
    "print(\"\\nKozhikode chunks:\")\n",
    "for subdirectory, count in chunks_accent2.items():\n",
    "    print(f\"{subdirectory}: {count} .wav files\")\n",
    "\n",
    "print(\"\\nKottayam chunks:\")\n",
    "for subdirectory, count in chunks_accent3.items():\n",
    "    print(f\"{subdirectory}: {count} .wav files\")\n",
    "\n",
    "print(\"\\nTrissur chunks:\")\n",
    "for subdirectory, count in chunks_accent4.items():\n",
    "    print(f\"{subdirectory}: {count} .wav files\")\n"
   ]
  },
  {
   "cell_type": "code",
   "execution_count": 61,
   "metadata": {},
   "outputs": [
    {
     "name": "stdout",
     "output_type": "stream",
     "text": [
      "We have 5977 training samples & 665 validation ones\n"
     ]
    }
   ],
   "source": [
    "split = int(len(dataframe) * (1 - VALIDATION_RATIO))\n",
    "train_df = dataframe[:split]\n",
    "valid_df = dataframe[split:]\n",
    "\n",
    "print(\n",
    "    f\"We have {train_df.shape[0]} training samples & {valid_df.shape[0]} validation ones\"\n",
    ")"
   ]
  },
  {
   "cell_type": "code",
   "execution_count": 62,
   "metadata": {},
   "outputs": [],
   "source": [
    "# # Normalize audio data\n",
    "# def normalize_audio(audio):\n",
    "#     return audio / np.max(np.abs(audio))\n",
    "# # \n",
    "# # Assuming x_valid contains raw audio data\n",
    "# x_valid = normalize_audio(x_valid)\n"
   ]
  },
  {
   "cell_type": "code",
   "execution_count": 63,
   "metadata": {},
   "outputs": [
    {
     "name": "stdout",
     "output_type": "stream",
     "text": [
      "filename    object\n",
      "accent       int64\n",
      "dtype: object\n",
      "filename    object\n",
      "accent       int64\n",
      "dtype: object\n"
     ]
    }
   ],
   "source": [
    "print(train_df.dtypes)\n",
    "print(valid_df.dtypes)"
   ]
  },
  {
   "cell_type": "code",
   "execution_count": 64,
   "metadata": {},
   "outputs": [
    {
     "name": "stdout",
     "output_type": "stream",
     "text": [
      "WARNING:tensorflow:Using a while_loop for converting IO>AudioResample cause there is no registered converter for this op.\n"
     ]
    },
    {
     "name": "stderr",
     "output_type": "stream",
     "text": [
      "WARNING:tensorflow:Using a while_loop for converting IO>AudioResample cause there is no registered converter for this op.\n"
     ]
    }
   ],
   "source": [
    "\n",
    "@tf.function\n",
    "def load_16k_audio_wav(filename):\n",
    "    # Read file content\n",
    "    file_content = tf.io.read_file(filename)\n",
    "\n",
    "    # Decode audio wave\n",
    "    audio_wav, sample_rate = tf.audio.decode_wav(file_content, desired_channels=1)\n",
    "    audio_wav = tf.squeeze(audio_wav, axis=-1)\n",
    "    sample_rate = tf.cast(sample_rate, dtype=tf.int64)\n",
    "\n",
    "    # Resample to 16k\n",
    "    audio_wav = tfio.audio.resample(audio_wav, rate_in=sample_rate, rate_out=16000)\n",
    "\n",
    "    return audio_wav\n",
    "\n",
    "\n",
    "\n",
    "def filepath_to_embeddings(filename, label):\n",
    "    audio_wav = load_16k_audio_wav(filename)\n",
    "    scores, embeddings, _ = yamnet_model(audio_wav)\n",
    "    embeddings_num = tf.shape(embeddings)[0]\n",
    "    labels = tf.repeat(tf.cast(label, tf.int32), embeddings_num)\n",
    "\n",
    "    # Ensure both choices in tf.where are of the same type\n",
    "    not_speech_label = tf.constant(len(class_names) - 1, dtype=tf.int32)\n",
    "    labels = tf.where(tf.argmax(scores, axis=1) == 0, labels, not_speech_label)\n",
    "\n",
    "    return (embeddings, tf.one_hot(labels, len(class_names)))\n",
    "\n",
    "\n",
    "\n",
    "def dataframe_to_dataset(dataframe, batch_size=64):\n",
    "    dataset = tf.data.Dataset.from_tensor_slices(\n",
    "        (dataframe[\"filename\"], dataframe[\"accent\"])\n",
    "    )\n",
    "\n",
    "    dataset = dataset.map(\n",
    "        lambda x, y: filepath_to_embeddings(x, y),\n",
    "        num_parallel_calls=tf.data.experimental.AUTOTUNE,\n",
    "    ).unbatch()\n",
    "\n",
    "    return dataset.cache().batch(batch_size).prefetch(tf.data.AUTOTUNE)\n",
    "\n",
    "\n",
    "\n",
    "train_ds = dataframe_to_dataset(train_df)\n",
    "valid_ds = dataframe_to_dataset(valid_df)"
   ]
  },
  {
   "cell_type": "code",
   "execution_count": 65,
   "metadata": {},
   "outputs": [
    {
     "name": "stdout",
     "output_type": "stream",
     "text": [
      "Model: \"accent_recognition\"\n",
      "_________________________________________________________________\n",
      " Layer (type)                Output Shape              Param #   \n",
      "=================================================================\n",
      " embedding (InputLayer)      [(None, 1024)]            0         \n",
      "                                                                 \n",
      " dense_1 (Dense)             (None, 256)               262400    \n",
      "                                                                 \n",
      " batch_normalization (BatchN  (None, 256)              1024      \n",
      " ormalization)                                                   \n",
      "                                                                 \n",
      " dropout_1 (Dropout)         (None, 256)               0         \n",
      "                                                                 \n",
      " dense_2 (Dense)             (None, 256)               65792     \n",
      "                                                                 \n",
      " batch_normalization_1 (Batc  (None, 256)              1024      \n",
      " hNormalization)                                                 \n",
      "                                                                 \n",
      " dropout_2 (Dropout)         (None, 256)               0         \n",
      "                                                                 \n",
      " dense_3 (Dense)             (None, 128)               32896     \n",
      "                                                                 \n",
      " batch_normalization_2 (Batc  (None, 128)              512       \n",
      " hNormalization)                                                 \n",
      "                                                                 \n",
      " dropout_3 (Dropout)         (None, 128)               0         \n",
      "                                                                 \n",
      " output (Dense)              (None, 3)                 387       \n",
      "                                                                 \n",
      "=================================================================\n",
      "Total params: 364,035\n",
      "Trainable params: 362,755\n",
      "Non-trainable params: 1,280\n",
      "_________________________________________________________________\n"
     ]
    }
   ],
   "source": [
    "import keras\n",
    "from keras import layers\n",
    "\n",
    "keras.backend.clear_session()\n",
    "\n",
    "def build_and_compile_model():\n",
    "    inputs = keras.layers.Input(shape=(1024,), name=\"embedding\")\n",
    "\n",
    "    x = keras.layers.Dense(256, activation=\"relu\", name=\"dense_1\")(inputs)\n",
    "    x = keras.layers.BatchNormalization()(x)\n",
    "    x = keras.layers.Dropout(0.3, name=\"dropout_1\")(x)\n",
    "\n",
    "    x = keras.layers.Dense(256, activation=\"relu\", name=\"dense_2\")(x)\n",
    "    x = keras.layers.BatchNormalization()(x)\n",
    "    x = keras.layers.Dropout(0.3, name=\"dropout_2\")(x)\n",
    "\n",
    "    x = keras.layers.Dense(128, activation=\"relu\", name=\"dense_3\")(x)\n",
    "    x = keras.layers.BatchNormalization()(x)\n",
    "    x = keras.layers.Dropout(0.3, name=\"dropout_3\")(x)\n",
    "\n",
    "    outputs = keras.layers.Dense(len(class_names), activation=\"softmax\", name=\"output\")(x)\n",
    "\n",
    "    model = keras.Model(inputs=inputs, outputs=outputs, name=\"accent_recognition\")\n",
    "\n",
    "    model.compile(\n",
    "        optimizer=keras.optimizers.Adam(learning_rate=1e-4),  # Start with a lower learning rate\n",
    "        loss=keras.losses.CategoricalCrossentropy(),\n",
    "        metrics=[\"accuracy\", keras.metrics.AUC(name=\"auc\")],\n",
    "    )\n",
    "\n",
    "    return model\n",
    "\n",
    "model = build_and_compile_model()\n",
    "model.summary()\n"
   ]
  },
  {
   "cell_type": "code",
   "execution_count": 66,
   "metadata": {},
   "outputs": [],
   "source": [
    "# class_weight = {0: 10, 1: 1}"
   ]
  },
  {
   "cell_type": "code",
   "execution_count": 67,
   "metadata": {},
   "outputs": [],
   "source": [
    "MODEL_NAME = \"Malayalam_accent_recognition\"\n",
    "early_stopping_cb = keras.callbacks.EarlyStopping(\n",
    "    monitor=\"val_auc\", patience=10, restore_best_weights=True\n",
    ")\n",
    "\n",
    "model_checkpoint_cb = keras.callbacks.ModelCheckpoint(\n",
    "    MODEL_NAME + \".h5\", monitor=\"val_auc\", save_best_only=True\n",
    ")\n",
    "\n",
    "tensorboard_cb = keras.callbacks.TensorBoard(\n",
    "    os.path.join(os.curdir, \"logs\", model.name)\n",
    ")\n",
    "\n",
    "def lr_scheduler(epoch, lr):\n",
    "    if epoch < 3:\n",
    "        return lr\n",
    "    else:\n",
    "        return lr * tf.math.exp(-0.1)\n",
    "\n",
    "lr_callback = keras.callbacks.LearningRateScheduler(lr_scheduler)\n",
    "\n",
    "callbacks = [early_stopping_cb, model_checkpoint_cb, tensorboard_cb]"
   ]
  },
  {
   "cell_type": "code",
   "execution_count": 86,
   "metadata": {},
   "outputs": [
    {
     "name": "stdout",
     "output_type": "stream",
     "text": [
      "Epoch 1/20\n",
      "1886/1886 - 29s - loss: 0.8399 - accuracy: 0.6802 - auc: 0.7999 - val_loss: 2.0106 - val_accuracy: 0.5497 - val_auc: 0.6588 - lr: 0.0010 - 29s/epoch - 15ms/step\n",
      "Epoch 2/20\n",
      "1886/1886 - 27s - loss: 0.8388 - accuracy: 0.6791 - auc: 0.8007 - val_loss: 2.4478 - val_accuracy: 0.5497 - val_auc: 0.5977 - lr: 0.0010 - 27s/epoch - 15ms/step\n",
      "Epoch 3/20\n",
      "1886/1886 - 27s - loss: 0.8657 - accuracy: 0.6786 - auc: 0.7994 - val_loss: 2.4569 - val_accuracy: 0.5497 - val_auc: 0.5908 - lr: 0.0010 - 27s/epoch - 14ms/step\n",
      "Epoch 4/20\n",
      "1886/1886 - 27s - loss: 0.8718 - accuracy: 0.6797 - auc: 0.7996 - val_loss: 2.2174 - val_accuracy: 0.5497 - val_auc: 0.6147 - lr: 0.0010 - 27s/epoch - 15ms/step\n",
      "Epoch 5/20\n",
      "1886/1886 - 27s - loss: 0.8891 - accuracy: 0.6769 - auc: 0.7970 - val_loss: 1.5198 - val_accuracy: 0.5243 - val_auc: 0.6425 - lr: 0.0010 - 27s/epoch - 14ms/step\n",
      "Epoch 6/20\n",
      "1886/1886 - 27s - loss: 0.9010 - accuracy: 0.6751 - auc: 0.7964 - val_loss: 2.6791 - val_accuracy: 0.5497 - val_auc: 0.6214 - lr: 0.0010 - 27s/epoch - 14ms/step\n",
      "Epoch 7/20\n",
      "1886/1886 - 28s - loss: 0.8873 - accuracy: 0.6756 - auc: 0.7947 - val_loss: 3.3430 - val_accuracy: 0.5498 - val_auc: 0.6091 - lr: 0.0010 - 28s/epoch - 15ms/step\n",
      "Epoch 8/20\n",
      "1886/1886 - 28s - loss: 0.9022 - accuracy: 0.6756 - auc: 0.7959 - val_loss: 1.5903 - val_accuracy: 0.5150 - val_auc: 0.6338 - lr: 0.0010 - 28s/epoch - 15ms/step\n",
      "Epoch 9/20\n",
      "1886/1886 - 30s - loss: 0.8921 - accuracy: 0.6766 - auc: 0.7954 - val_loss: 1.1689 - val_accuracy: 0.5303 - val_auc: 0.6583 - lr: 0.0010 - 30s/epoch - 16ms/step\n",
      "Epoch 10/20\n",
      "1886/1886 - 26s - loss: 0.9107 - accuracy: 0.6779 - auc: 0.7955 - val_loss: 2.9530 - val_accuracy: 0.5497 - val_auc: 0.6085 - lr: 0.0010 - 26s/epoch - 14ms/step\n",
      "Epoch 11/20\n",
      "1886/1886 - 27s - loss: 0.8827 - accuracy: 0.6789 - auc: 0.7967 - val_loss: 1.6291 - val_accuracy: 0.5150 - val_auc: 0.6215 - lr: 9.0484e-04 - 27s/epoch - 14ms/step\n",
      "Epoch 12/20\n",
      "1886/1886 - 58s - loss: 0.8627 - accuracy: 0.6816 - auc: 0.7996 - val_loss: 1.0229 - val_accuracy: 0.5429 - val_auc: 0.6873 - lr: 8.1873e-04 - 58s/epoch - 31ms/step\n",
      "Epoch 13/20\n",
      "1886/1886 - 43s - loss: 0.8521 - accuracy: 0.6797 - auc: 0.7985 - val_loss: 1.7880 - val_accuracy: 0.5412 - val_auc: 0.6615 - lr: 7.4082e-04 - 43s/epoch - 23ms/step\n",
      "Epoch 14/20\n",
      "1886/1886 - 27s - loss: 0.8219 - accuracy: 0.6816 - auc: 0.8005 - val_loss: 1.4154 - val_accuracy: 0.5475 - val_auc: 0.6749 - lr: 6.7032e-04 - 27s/epoch - 14ms/step\n",
      "Epoch 15/20\n",
      "1886/1886 - 27s - loss: 0.8284 - accuracy: 0.6822 - auc: 0.8014 - val_loss: 1.5646 - val_accuracy: 0.5390 - val_auc: 0.6579 - lr: 6.0653e-04 - 27s/epoch - 14ms/step\n",
      "Epoch 16/20\n",
      "1886/1886 - 28s - loss: 0.7780 - accuracy: 0.6813 - auc: 0.8054 - val_loss: 1.0752 - val_accuracy: 0.5427 - val_auc: 0.6738 - lr: 5.4881e-04 - 28s/epoch - 15ms/step\n",
      "Epoch 17/20\n",
      "1886/1886 - 28s - loss: 0.7772 - accuracy: 0.6845 - auc: 0.8073 - val_loss: 1.3139 - val_accuracy: 0.5462 - val_auc: 0.6762 - lr: 4.9659e-04 - 28s/epoch - 15ms/step\n",
      "Epoch 18/20\n",
      "1886/1886 - 27s - loss: 0.7564 - accuracy: 0.6846 - auc: 0.8084 - val_loss: 1.1849 - val_accuracy: 0.5416 - val_auc: 0.6643 - lr: 4.4933e-04 - 27s/epoch - 14ms/step\n",
      "Epoch 19/20\n",
      "1886/1886 - 33s - loss: 0.7442 - accuracy: 0.6857 - auc: 0.8112 - val_loss: 1.0510 - val_accuracy: 0.5413 - val_auc: 0.6670 - lr: 4.0657e-04 - 33s/epoch - 17ms/step\n",
      "Epoch 20/20\n",
      "1886/1886 - 28s - loss: 0.7385 - accuracy: 0.6857 - auc: 0.8112 - val_loss: 1.0857 - val_accuracy: 0.5497 - val_auc: 0.6118 - lr: 3.6788e-04 - 28s/epoch - 15ms/step\n"
     ]
    }
   ],
   "source": [
    "from keras.callbacks import EarlyStopping, LearningRateScheduler\n",
    "import keras\n",
    "\n",
    "# Early stopping to prevent overfitting\n",
    "early_stopping_cb = EarlyStopping(monitor='val_loss', patience=10, restore_best_weights=True)\n",
    "\n",
    "# Learning rate scheduler to adjust the learning rate during training\n",
    "def scheduler(epoch, lr):\n",
    "    if epoch < 10:\n",
    "        return lr\n",
    "    else:\n",
    "        return lr * tf.math.exp(-0.1)\n",
    "\n",
    "lr_callback = LearningRateScheduler(scheduler)\n",
    "\n",
    "callbacks = [early_stopping_cb, lr_callback]\n",
    "\n",
    "# Compile the model\n",
    "model.compile(\n",
    "    optimizer=keras.optimizers.Adam(learning_rate=1e-3),  # Adjust the learning rate if needed\n",
    "    loss=keras.losses.CategoricalCrossentropy(),\n",
    "    metrics=[\"accuracy\", keras.metrics.AUC(name=\"auc\")],\n",
    ")\n",
    "\n",
    "# Train the model\n",
    "history = model.fit(\n",
    "    train_ds,\n",
    "    epochs=20,  # Increase the number of epochs\n",
    "    validation_data=valid_ds,\n",
    "    # class_weight=class_weight,  # Ensure class weights are applied if there is class imbalance\n",
    "    callbacks=callbacks,\n",
    "    verbose=2,\n",
    ")\n"
   ]
  },
  {
   "cell_type": "code",
   "execution_count": 87,
   "metadata": {},
   "outputs": [
    {
     "data": {
      "image/png": "[encoded data removed]",
      "text/plain": [
       "<Figure size 1400x500 with 2 Axes>"
      ]
     },
     "metadata": {},
     "output_type": "display_data"
    }
   ],
   "source": [
    "import matplotlib.pyplot as plt\n",
    "\n",
    "# Use the length of the history object to handle early stopping\n",
    "epochs = range(len(history.history[\"accuracy\"]))\n",
    "\n",
    "fig, axs = plt.subplots(nrows=1, ncols=2, figsize=(14, 5))\n",
    "\n",
    "# Plot Training and Validation Accuracy\n",
    "axs[0].plot(epochs, history.history[\"accuracy\"], label=\"Training\")\n",
    "axs[0].plot(epochs, history.history[\"val_accuracy\"], label=\"Validation\")\n",
    "axs[0].set_xlabel(\"Epochs\")\n",
    "axs[0].set_title(\"Training & Validation Accuracy\")\n",
    "axs[0].legend()\n",
    "axs[0].grid(True)\n",
    "\n",
    "# Plot Training and Validation AUC\n",
    "axs[1].plot(epochs, history.history[\"auc\"], label=\"Training\")\n",
    "axs[1].plot(epochs, history.history[\"val_auc\"], label=\"Validation\")\n",
    "axs[1].set_xlabel(\"Epochs\")\n",
    "axs[1].set_title(\"Training & Validation AUC\")\n",
    "axs[1].legend()\n",
    "axs[1].grid(True)\n",
    "\n",
    "plt.show()\n"
   ]
  },
  {
   "cell_type": "code",
   "execution_count": 88,
   "metadata": {},
   "outputs": [
    {
     "name": "stdout",
     "output_type": "stream",
     "text": [
      "1886/1886 [==============================] - 8s 4ms/step - loss: 0.6662 - accuracy: 0.6698 - auc: 0.7805\n",
      "279/279 [==============================] - 1s 5ms/step - loss: 1.0857 - accuracy: 0.5497 - auc: 0.6118\n"
     ]
    }
   ],
   "source": [
    "train_loss, train_acc, train_auc = model.evaluate(train_ds)\n",
    "valid_loss, valid_acc, valid_auc = model.evaluate(valid_ds)"
   ]
  },
  {
   "cell_type": "code",
   "execution_count": 89,
   "metadata": {},
   "outputs": [
    {
     "name": "stdout",
     "output_type": "stream",
     "text": [
      "train d-prime: 1.094, validation d-prime: 0.401\n"
     ]
    }
   ],
   "source": [
    "# The following function calculates the d-prime score from the AUC\n",
    "def d_prime(auc):\n",
    "    standard_normal = stats.norm()\n",
    "    d_prime = standard_normal.ppf(auc) * np.sqrt(2.0)\n",
    "    return d_prime\n",
    "\n",
    "\n",
    "print(\n",
    "    \"train d-prime: {0:.3f}, validation d-prime: {1:.3f}\".format(\n",
    "        d_prime(train_auc), d_prime(valid_auc)\n",
    "    )\n",
    "    \n",
    ")"
   ]
  },
  {
   "cell_type": "code",
   "execution_count": 93,
   "metadata": {},
   "outputs": [
    {
     "name": "stdout",
     "output_type": "stream",
     "text": [
      "Unique classes in validation labels: [0 1 2 3]\n",
      "Unique classes in training labels: [0 1 2 3]\n",
      "Checking if training data is shuffled...\n",
      "                                            filename  accent\n",
      "0  D:/datasets/SpeechProcessing/output_folder_tri...       0\n",
      "1  D:/datasets/SpeechProcessing/output_folder_tri...       1\n",
      "2  D:/datasets/SpeechProcessing/output_folder_tri...       3\n",
      "3  D:/datasets/SpeechProcessing/output_folder_tri...       2\n",
      "4  D:/datasets/SpeechProcessing/output_folder_tri...       3\n",
      "5  D:/datasets/SpeechProcessing/output_folder_tri...       3\n",
      "6  D:/datasets/SpeechProcessing/output_folder_tri...       3\n",
      "7  D:/datasets/SpeechProcessing/output_folder_tri...       1\n",
      "8  D:/datasets/SpeechProcessing/output_folder_tri...       2\n",
      "9  D:/datasets/SpeechProcessing/output_folder_tri...       1\n"
     ]
    }
   ],
   "source": [
    "import pandas as pd\n",
    "from sklearn.preprocessing import LabelEncoder\n",
    "import numpy as np\n",
    "\n",
    "# Assuming train_df and valid_df are your training and validation dataframes\n",
    "# Combine the datasets to ensure consistent label encoding\n",
    "combined_df = pd.concat([train_df, valid_df])\n",
    "\n",
    "# Fit the label encoder on the combined data\n",
    "le = LabelEncoder()\n",
    "combined_df['accent'] = le.fit_transform(combined_df['accent'])\n",
    "\n",
    "# Split the combined data back into training and validation sets\n",
    "train_df = combined_df.iloc[:len(train_df)]\n",
    "valid_df = combined_df.iloc[len(train_df):]\n",
    "\n",
    "# Print unique classes to verify\n",
    "print(f\"Unique classes in validation labels: {np.unique(valid_df['accent'])}\")\n",
    "print(f\"Unique classes in training labels: {np.unique(train_df['accent'])}\")\n",
    "\n",
    "# Verify that the data is shuffled\n",
    "print(\"Checking if training data is shuffled...\")\n",
    "print(train_df.head(10))\n",
    "\n",
    "# Proceed with the rest of your processing and model training\n"
   ]
  },
  {
   "cell_type": "code",
   "execution_count": 95,
   "metadata": {},
   "outputs": [
    {
     "name": "stdout",
     "output_type": "stream",
     "text": [
      "557/557 [==============================] - 3s 5ms/step\n"
     ]
    },
    {
     "data": {
      "image/png": "[encoded data removed]",
      "text/plain": [
       "<Figure size 800x600 with 2 Axes>"
      ]
     },
     "metadata": {},
     "output_type": "display_data"
    }
   ],
   "source": [
    "# Create x and y tensors\n",
    "x_valid = None\n",
    "y_valid = None\n",
    "\n",
    "for x, y in iter(valid_ds):\n",
    "    if x_valid is None:\n",
    "        x_valid = x.numpy()\n",
    "        y_valid = y.numpy()\n",
    "    else:\n",
    "        x_valid = np.concatenate((x_valid, x.numpy()), axis=0)\n",
    "        y_valid = np.concatenate((y_valid, y.numpy()), axis=0)\n",
    "\n",
    "# Generate predictions\n",
    "y_pred = model.predict(x_valid)\n",
    "\n",
    "# Calculate confusion matrix\n",
    "confusion_mtx = tf.math.confusion_matrix(\n",
    "    np.argmax(y_valid, axis=1), np.argmax(y_pred, axis=1)\n",
    ")\n",
    "\n",
    "# Plot the confusion matrix\n",
    "plt.figure(figsize=(8, 6))\n",
    "sns.heatmap(\n",
    "    confusion_mtx, xticklabels=le.classes_, yticklabels=le.classes_, annot=True, fmt=\"g\"\n",
    ")\n",
    "plt.xlabel(\"Prediction\")\n",
    "plt.ylabel(\"Label\")\n",
    "plt.title(\"Validation Confusion Matrix\")\n",
    "plt.show()\n"
   ]
  },
  {
   "cell_type": "code",
   "execution_count": 90,
   "metadata": {},
   "outputs": [
    {
     "name": "stdout",
     "output_type": "stream",
     "text": [
      "557/557 [==============================] - 3s 5ms/step\n"
     ]
    },
    {
     "data": {
      "image/png": "[encoded data removed]",
      "text/plain": [
       "<Figure size 1000x800 with 2 Axes>"
      ]
     },
     "metadata": {},
     "output_type": "display_data"
    }
   ],
   "source": [
    "# Create x and y tensors\n",
    "x_valid = None\n",
    "y_valid = None\n",
    "\n",
    "for x, y in iter(valid_ds):\n",
    "    if x_valid is None:\n",
    "        x_valid = x.numpy()\n",
    "        y_valid = y.numpy()\n",
    "    else:\n",
    "        x_valid = np.concatenate((x_valid, x.numpy()), axis=0)\n",
    "        y_valid = np.concatenate((y_valid, y.numpy()), axis=0)\n",
    "\n",
    "# Generate predictions\n",
    "y_pred = model.predict(x_valid)\n",
    "\n",
    "# Calculate confusion matrix\n",
    "confusion_mtx = tf.math.confusion_matrix(\n",
    "    np.argmax(y_valid, axis=1), np.argmax(y_pred, axis=1)\n",
    ")\n",
    "\n",
    "# Plot the confusion matrix\n",
    "plt.figure(figsize=(10, 8))\n",
    "sns.heatmap(\n",
    "    confusion_mtx, xticklabels=class_names, yticklabels=class_names, annot=True, fmt=\"g\"\n",
    ")\n",
    "plt.xlabel(\"Prediction\")\n",
    "plt.ylabel(\"Label\")\n",
    "plt.title(\"Validation Confusion Matrix\")\n",
    "plt.show()"
   ]
  },
  {
   "cell_type": "code",
   "execution_count": 92,
   "metadata": {},
   "outputs": [
    {
     "name": "stdout",
     "output_type": "stream",
     "text": [
      "Unique classes in validation labels: [0 1 2]\n",
      "Unique classes in training labels: [0 1 2 3]\n",
      "Checking if training data is shuffled...\n",
      "                                            filename  accent\n",
      "0  D:/datasets/SpeechProcessing/output_folder_tri...       0\n",
      "1  D:/datasets/SpeechProcessing/output_folder_tri...       1\n",
      "2  D:/datasets/SpeechProcessing/output_folder_tri...       3\n",
      "3  D:/datasets/SpeechProcessing/output_folder_tri...       2\n",
      "4  D:/datasets/SpeechProcessing/output_folder_tri...       3\n",
      "5  D:/datasets/SpeechProcessing/output_folder_tri...       3\n",
      "6  D:/datasets/SpeechProcessing/output_folder_tri...       3\n",
      "7  D:/datasets/SpeechProcessing/output_folder_tri...       1\n",
      "8  D:/datasets/SpeechProcessing/output_folder_tri...       2\n",
      "9  D:/datasets/SpeechProcessing/output_folder_tri...       1\n"
     ]
    }
   ],
   "source": [
    "# Verify unique classes in the validation set\n",
    "print(f\"Unique classes in validation labels: {np.unique(np.argmax(y_valid, axis=1))}\")\n",
    "\n",
    "# Ensure the training data does not include validation data\n",
    "print(f\"Unique classes in training labels: {np.unique(train_df['accent'])}\")\n",
    "\n",
    "# Check if data is shuffled\n",
    "print(\"Checking if training data is shuffled...\")\n",
    "print(train_df.head(10))\n"
   ]
  }
 ],
 "metadata": {
  "kernelspec": {
   "display_name": "Python 3",
   "language": "python",
   "name": "python3"
  },
  "language_info": {
   "codemirror_mode": {
    "name": "ipython",
    "version": 3
   },
   "file_extension": ".py",
   "mimetype": "text/x-python",
   "name": "python",
   "nbconvert_exporter": "python",
   "pygments_lexer": "ipython3",
   "version": "3.10.0"
  }
 },
 "nbformat": 4,
 "nbformat_minor": 2
}
